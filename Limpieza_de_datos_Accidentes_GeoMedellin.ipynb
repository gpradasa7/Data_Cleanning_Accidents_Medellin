{
  "nbformat": 4,
  "nbformat_minor": 0,
  "metadata": {
    "colab": {
      "provenance": []
    },
    "kernelspec": {
      "name": "python3",
      "display_name": "Python 3"
    },
    "language_info": {
      "name": "python"
    }
  },
  "cells": [
    {
      "cell_type": "markdown",
      "source": [
        "# LIMPIEZA DE DATOS PARA CREAR UN TABLERO RESUMEN SOBRE **ACCIDENTES DE TRÁNSITO EN MEDELLÍN EN EL 2022**\n",
        "\n",
        "Los datos utilizados en este cuaderno para el ejercicio propuesto son datos georeferenciados de los accidentes e incidentes de tránsito ocurridos en toda la extensión del territorio de medellín incluyendo sus corregimientos.\n",
        "\n",
        "*Estos están alojados en la plataforma de [GeoMedellín](https://www.medellin.gov.co/geomedellin/) de manera pública y son administrados por la  Secretaría de Movilidad de la Alcaldía de Medellín.*\n",
        "\n",
        "los datos originales pueden ser accedidos desde este [enlace](https://geomedellin-m-medellin.opendata.arcgis.com/datasets/M-Medellin::incidentes-georreferenciados-2022-gdb/explore?location=6.247704%2C-75.588628%2C11.97)\n",
        "\n",
        "\n"
      ],
      "metadata": {
        "id": "qa4VQJKHsaPm"
      }
    },
    {
      "cell_type": "markdown",
      "source": [
        "\n",
        "<br>\n",
        "\n",
        "####Objetivos propuestos\n",
        "\n",
        "Con este ejercicio se pretende realizar un tratamiento y limpieza a los datos de la geodatabase con `Python` y sus librerias como `Pandas, Numpy, etc...` para crear un tablero resumen con información útil en `Power BI` y proponer alternativas de solución como respuesta a las decisiones que se deben tomar para reducir el número de accidentes en períodos futuros.\n",
        "\n"
      ],
      "metadata": {
        "id": "EkT_tUOdRY-P"
      }
    },
    {
      "cell_type": "markdown",
      "source": [
        "\n",
        "###Descripción de los datos utilizados\n",
        "<br>\n",
        "\n",
        "los datos están almacenados en un fichero CSV que tiene una extensión de **23.577** registros y contiene datos registrados entre el mes de Enero hasta Julio del 2022.\n",
        "<br>\n"
      ],
      "metadata": {
        "id": "NkEH0iKSRcJ9"
      }
    },
    {
      "cell_type": "markdown",
      "source": [
        "\n",
        "####Descripción de las Columnas\n",
        "<br>\n",
        "El fichero cuenta con 25 Atributos(Columnas) que contienen metadatos que complementan el número total de accidentes.\n"
      ],
      "metadata": {
        "id": "P3VtdfQ2ReEM"
      }
    },
    {
      "cell_type": "markdown",
      "source": [
        "\n",
        "<br>\n",
        "\n",
        "####Tabla de Descripción\n",
        "<hr>\n",
        "\n",
        "|Nombre |Tipo |\n",
        "|--------|----------|\n",
        "|RADICADO| Texto|\n",
        "|X|Número|\n",
        "|Y| Número|\n",
        "|HORA| Texto|\n",
        "|DIA |Texto|\n",
        "|PERIODO |Texto|\n",
        "|CLASE |Texto|\n",
        "|DIRECCION|Texto|\n",
        "|DIRECCION_ENC| Texto|\n",
        "|CBML |Texto|\n",
        "|TIPO_GEOCOD |Texto|\n",
        "|EXPEDIENTE| Texto|\n",
        "|GRAVEDAD |Texto|\n",
        "|BARRIO |Texto|\n",
        "|COMUNA| Texto|\n",
        "|DISENO| Texto|\n",
        "|MES |Texto|\n",
        "|DIA| Texto|\n",
        "|FECHA| Fecha u hora|\n",
        "|MES_NOMBRE |Texto|\n",
        "|X_MAGNAMED |Número|\n",
        "|Y_MAGNAMED| Número|\n",
        "|LONGITUD |Número|\n",
        "|LATITUD| Número|\n",
        "\n",
        "Una vez descritos los datos a tratar, realizamos todo el proceso de limpieza y tratamiento a través de Python y sus principales librerias para datos."
      ],
      "metadata": {
        "id": "0VyueBPfRfkE"
      }
    },
    {
      "cell_type": "markdown",
      "source": [
        "####Ejecución de código\n",
        "\n",
        "Importamos las librerías necesarias para poder manipular los datos."
      ],
      "metadata": {
        "id": "6kKO0ET2BG90"
      }
    },
    {
      "cell_type": "code",
      "execution_count": null,
      "metadata": {
        "id": "9Ff-i3NDD7yh"
      },
      "outputs": [],
      "source": [
        "import pandas as pd\n",
        "import numpy as np"
      ]
    },
    {
      "cell_type": "markdown",
      "source": [
        "Una vez que se carguen los datos en el cuaderno se guardan en un dataframe."
      ],
      "metadata": {
        "id": "RaKfpVXHBX85"
      }
    },
    {
      "cell_type": "code",
      "source": [
        "df = pd.read_csv('incidentes2022.csv')"
      ],
      "metadata": {
        "id": "6TdKj-Q0EGUI"
      },
      "execution_count": null,
      "outputs": []
    },
    {
      "cell_type": "markdown",
      "source": [
        "Una vez cargados los datos en el dataframe se verifica que los datos si correspondan, al menos en sus primeras 5 filas con el método `.head()`"
      ],
      "metadata": {
        "id": "ZHnEQRpGHeYj"
      }
    },
    {
      "cell_type": "code",
      "source": [
        "df.head()"
      ],
      "metadata": {
        "colab": {
          "base_uri": "https://localhost:8080/",
          "height": 473
        },
        "id": "EUqjhubUHnqw",
        "outputId": "effd9c85-c47f-4d11-aadd-d0e0f07acc7c"
      },
      "execution_count": null,
      "outputs": [
        {
          "output_type": "execute_result",
          "data": {
            "text/plain": [
              "           X         Y  OBJECTID  RADICADO      HORA DIA_NOMBRE  PERIODO  \\\n",
              "0 -75.592351  6.243512         1   1783170  08:05:00  MIÉRCOLES     2022   \n",
              "1 -75.579832  6.230514         2   1783476  17:30:00  MIÉRCOLES     2022   \n",
              "2 -75.599001  6.269136         3   1789709  17:00:00  MIÉRCOLES     2022   \n",
              "3 -75.573979  6.232882         4   1793934  13:30:00  DOMINGO       2022   \n",
              "4 -75.703816  6.221806         5   1791043  06:45:00  MIÉRCOLES     2022   \n",
              "\n",
              "    CLASE                  DIRECCION               DIRECCION_ENC  ...  \\\n",
              "0  Choque  Circular 2 Con Carrera 74    CQ  002   074  000 00000  ...   \n",
              "1  Choque  Carrera 55 Con Calle 29 C  CR  055   029 C  000 00000  ...   \n",
              "2  Choque    Calle 54 Con Carrera 83    CL  054   083  000 00000  ...   \n",
              "3  Choque    Carrera 49 Con Calle 31    CR  049   031  000 00000  ...   \n",
              "4    Otro   Carrera 30 Con Calle 8 A                           0  ...   \n",
              "\n",
              "             COMUNA         DISENO MES DIA                   FECHA  \\\n",
              "0  Laureles Estadio   Interseccion   3  16  2022/03/16 00:00:00+00   \n",
              "1          Guayabal   Interseccion   3  16  2022/03/16 00:00:00+00   \n",
              "2        San Javier   Interseccion   5   4  2022/05/04 00:00:00+00   \n",
              "3     La Candelaria   Tramo de via   6  12  2022/06/12 00:00:00+00   \n",
              "4               NaN  Lote o Predio   5  18  2022/05/18 00:00:00+00   \n",
              "\n",
              "   MES_NOMBRE X_MAGNAMED  Y_MAGNAMED   LONGITUD   LATITUD  \n",
              "0  MARZO       832338.65  1182399.08 -75.592351  6.243512  \n",
              "1  MARZO       833724.32  1180961.28 -75.579832  6.230514  \n",
              "2  MAYO        831602.70  1185233.45 -75.599001  6.269136  \n",
              "3  JUNIO       834372.23  1181223.19 -75.573979  6.232882  \n",
              "4  MAYO        820000.00  1180000.00 -75.703816  6.221806  \n",
              "\n",
              "[5 rows x 25 columns]"
            ],
            "text/html": [
              "\n",
              "  <div id=\"df-3a96ce3b-72f7-4dde-bedf-91212fe36875\">\n",
              "    <div class=\"colab-df-container\">\n",
              "      <div>\n",
              "<style scoped>\n",
              "    .dataframe tbody tr th:only-of-type {\n",
              "        vertical-align: middle;\n",
              "    }\n",
              "\n",
              "    .dataframe tbody tr th {\n",
              "        vertical-align: top;\n",
              "    }\n",
              "\n",
              "    .dataframe thead th {\n",
              "        text-align: right;\n",
              "    }\n",
              "</style>\n",
              "<table border=\"1\" class=\"dataframe\">\n",
              "  <thead>\n",
              "    <tr style=\"text-align: right;\">\n",
              "      <th></th>\n",
              "      <th>X</th>\n",
              "      <th>Y</th>\n",
              "      <th>OBJECTID</th>\n",
              "      <th>RADICADO</th>\n",
              "      <th>HORA</th>\n",
              "      <th>DIA_NOMBRE</th>\n",
              "      <th>PERIODO</th>\n",
              "      <th>CLASE</th>\n",
              "      <th>DIRECCION</th>\n",
              "      <th>DIRECCION_ENC</th>\n",
              "      <th>...</th>\n",
              "      <th>COMUNA</th>\n",
              "      <th>DISENO</th>\n",
              "      <th>MES</th>\n",
              "      <th>DIA</th>\n",
              "      <th>FECHA</th>\n",
              "      <th>MES_NOMBRE</th>\n",
              "      <th>X_MAGNAMED</th>\n",
              "      <th>Y_MAGNAMED</th>\n",
              "      <th>LONGITUD</th>\n",
              "      <th>LATITUD</th>\n",
              "    </tr>\n",
              "  </thead>\n",
              "  <tbody>\n",
              "    <tr>\n",
              "      <th>0</th>\n",
              "      <td>-75.592351</td>\n",
              "      <td>6.243512</td>\n",
              "      <td>1</td>\n",
              "      <td>1783170</td>\n",
              "      <td>08:05:00</td>\n",
              "      <td>MIÉRCOLES</td>\n",
              "      <td>2022</td>\n",
              "      <td>Choque</td>\n",
              "      <td>Circular 2 Con Carrera 74</td>\n",
              "      <td>CQ  002   074  000 00000</td>\n",
              "      <td>...</td>\n",
              "      <td>Laureles Estadio</td>\n",
              "      <td>Interseccion</td>\n",
              "      <td>3</td>\n",
              "      <td>16</td>\n",
              "      <td>2022/03/16 00:00:00+00</td>\n",
              "      <td>MARZO</td>\n",
              "      <td>832338.65</td>\n",
              "      <td>1182399.08</td>\n",
              "      <td>-75.592351</td>\n",
              "      <td>6.243512</td>\n",
              "    </tr>\n",
              "    <tr>\n",
              "      <th>1</th>\n",
              "      <td>-75.579832</td>\n",
              "      <td>6.230514</td>\n",
              "      <td>2</td>\n",
              "      <td>1783476</td>\n",
              "      <td>17:30:00</td>\n",
              "      <td>MIÉRCOLES</td>\n",
              "      <td>2022</td>\n",
              "      <td>Choque</td>\n",
              "      <td>Carrera 55 Con Calle 29 C</td>\n",
              "      <td>CR  055   029 C  000 00000</td>\n",
              "      <td>...</td>\n",
              "      <td>Guayabal</td>\n",
              "      <td>Interseccion</td>\n",
              "      <td>3</td>\n",
              "      <td>16</td>\n",
              "      <td>2022/03/16 00:00:00+00</td>\n",
              "      <td>MARZO</td>\n",
              "      <td>833724.32</td>\n",
              "      <td>1180961.28</td>\n",
              "      <td>-75.579832</td>\n",
              "      <td>6.230514</td>\n",
              "    </tr>\n",
              "    <tr>\n",
              "      <th>2</th>\n",
              "      <td>-75.599001</td>\n",
              "      <td>6.269136</td>\n",
              "      <td>3</td>\n",
              "      <td>1789709</td>\n",
              "      <td>17:00:00</td>\n",
              "      <td>MIÉRCOLES</td>\n",
              "      <td>2022</td>\n",
              "      <td>Choque</td>\n",
              "      <td>Calle 54 Con Carrera 83</td>\n",
              "      <td>CL  054   083  000 00000</td>\n",
              "      <td>...</td>\n",
              "      <td>San Javier</td>\n",
              "      <td>Interseccion</td>\n",
              "      <td>5</td>\n",
              "      <td>4</td>\n",
              "      <td>2022/05/04 00:00:00+00</td>\n",
              "      <td>MAYO</td>\n",
              "      <td>831602.70</td>\n",
              "      <td>1185233.45</td>\n",
              "      <td>-75.599001</td>\n",
              "      <td>6.269136</td>\n",
              "    </tr>\n",
              "    <tr>\n",
              "      <th>3</th>\n",
              "      <td>-75.573979</td>\n",
              "      <td>6.232882</td>\n",
              "      <td>4</td>\n",
              "      <td>1793934</td>\n",
              "      <td>13:30:00</td>\n",
              "      <td>DOMINGO</td>\n",
              "      <td>2022</td>\n",
              "      <td>Choque</td>\n",
              "      <td>Carrera 49 Con Calle 31</td>\n",
              "      <td>CR  049   031  000 00000</td>\n",
              "      <td>...</td>\n",
              "      <td>La Candelaria</td>\n",
              "      <td>Tramo de via</td>\n",
              "      <td>6</td>\n",
              "      <td>12</td>\n",
              "      <td>2022/06/12 00:00:00+00</td>\n",
              "      <td>JUNIO</td>\n",
              "      <td>834372.23</td>\n",
              "      <td>1181223.19</td>\n",
              "      <td>-75.573979</td>\n",
              "      <td>6.232882</td>\n",
              "    </tr>\n",
              "    <tr>\n",
              "      <th>4</th>\n",
              "      <td>-75.703816</td>\n",
              "      <td>6.221806</td>\n",
              "      <td>5</td>\n",
              "      <td>1791043</td>\n",
              "      <td>06:45:00</td>\n",
              "      <td>MIÉRCOLES</td>\n",
              "      <td>2022</td>\n",
              "      <td>Otro</td>\n",
              "      <td>Carrera 30 Con Calle 8 A</td>\n",
              "      <td>0</td>\n",
              "      <td>...</td>\n",
              "      <td>NaN</td>\n",
              "      <td>Lote o Predio</td>\n",
              "      <td>5</td>\n",
              "      <td>18</td>\n",
              "      <td>2022/05/18 00:00:00+00</td>\n",
              "      <td>MAYO</td>\n",
              "      <td>820000.00</td>\n",
              "      <td>1180000.00</td>\n",
              "      <td>-75.703816</td>\n",
              "      <td>6.221806</td>\n",
              "    </tr>\n",
              "  </tbody>\n",
              "</table>\n",
              "<p>5 rows × 25 columns</p>\n",
              "</div>\n",
              "      <button class=\"colab-df-convert\" onclick=\"convertToInteractive('df-3a96ce3b-72f7-4dde-bedf-91212fe36875')\"\n",
              "              title=\"Convert this dataframe to an interactive table.\"\n",
              "              style=\"display:none;\">\n",
              "        \n",
              "  <svg xmlns=\"http://www.w3.org/2000/svg\" height=\"24px\"viewBox=\"0 0 24 24\"\n",
              "       width=\"24px\">\n",
              "    <path d=\"M0 0h24v24H0V0z\" fill=\"none\"/>\n",
              "    <path d=\"M18.56 5.44l.94 2.06.94-2.06 2.06-.94-2.06-.94-.94-2.06-.94 2.06-2.06.94zm-11 1L8.5 8.5l.94-2.06 2.06-.94-2.06-.94L8.5 2.5l-.94 2.06-2.06.94zm10 10l.94 2.06.94-2.06 2.06-.94-2.06-.94-.94-2.06-.94 2.06-2.06.94z\"/><path d=\"M17.41 7.96l-1.37-1.37c-.4-.4-.92-.59-1.43-.59-.52 0-1.04.2-1.43.59L10.3 9.45l-7.72 7.72c-.78.78-.78 2.05 0 2.83L4 21.41c.39.39.9.59 1.41.59.51 0 1.02-.2 1.41-.59l7.78-7.78 2.81-2.81c.8-.78.8-2.07 0-2.86zM5.41 20L4 18.59l7.72-7.72 1.47 1.35L5.41 20z\"/>\n",
              "  </svg>\n",
              "      </button>\n",
              "      \n",
              "  <style>\n",
              "    .colab-df-container {\n",
              "      display:flex;\n",
              "      flex-wrap:wrap;\n",
              "      gap: 12px;\n",
              "    }\n",
              "\n",
              "    .colab-df-convert {\n",
              "      background-color: #E8F0FE;\n",
              "      border: none;\n",
              "      border-radius: 50%;\n",
              "      cursor: pointer;\n",
              "      display: none;\n",
              "      fill: #1967D2;\n",
              "      height: 32px;\n",
              "      padding: 0 0 0 0;\n",
              "      width: 32px;\n",
              "    }\n",
              "\n",
              "    .colab-df-convert:hover {\n",
              "      background-color: #E2EBFA;\n",
              "      box-shadow: 0px 1px 2px rgba(60, 64, 67, 0.3), 0px 1px 3px 1px rgba(60, 64, 67, 0.15);\n",
              "      fill: #174EA6;\n",
              "    }\n",
              "\n",
              "    [theme=dark] .colab-df-convert {\n",
              "      background-color: #3B4455;\n",
              "      fill: #D2E3FC;\n",
              "    }\n",
              "\n",
              "    [theme=dark] .colab-df-convert:hover {\n",
              "      background-color: #434B5C;\n",
              "      box-shadow: 0px 1px 3px 1px rgba(0, 0, 0, 0.15);\n",
              "      filter: drop-shadow(0px 1px 2px rgba(0, 0, 0, 0.3));\n",
              "      fill: #FFFFFF;\n",
              "    }\n",
              "  </style>\n",
              "\n",
              "      <script>\n",
              "        const buttonEl =\n",
              "          document.querySelector('#df-3a96ce3b-72f7-4dde-bedf-91212fe36875 button.colab-df-convert');\n",
              "        buttonEl.style.display =\n",
              "          google.colab.kernel.accessAllowed ? 'block' : 'none';\n",
              "\n",
              "        async function convertToInteractive(key) {\n",
              "          const element = document.querySelector('#df-3a96ce3b-72f7-4dde-bedf-91212fe36875');\n",
              "          const dataTable =\n",
              "            await google.colab.kernel.invokeFunction('convertToInteractive',\n",
              "                                                     [key], {});\n",
              "          if (!dataTable) return;\n",
              "\n",
              "          const docLinkHtml = 'Like what you see? Visit the ' +\n",
              "            '<a target=\"_blank\" href=https://colab.research.google.com/notebooks/data_table.ipynb>data table notebook</a>'\n",
              "            + ' to learn more about interactive tables.';\n",
              "          element.innerHTML = '';\n",
              "          dataTable['output_type'] = 'display_data';\n",
              "          await google.colab.output.renderOutput(dataTable, element);\n",
              "          const docLink = document.createElement('div');\n",
              "          docLink.innerHTML = docLinkHtml;\n",
              "          element.appendChild(docLink);\n",
              "        }\n",
              "      </script>\n",
              "    </div>\n",
              "  </div>\n",
              "  "
            ]
          },
          "metadata": {},
          "execution_count": 8
        }
      ]
    },
    {
      "cell_type": "markdown",
      "source": [
        "Ahora que tenemos los datos debemos empezar a eliminar las columnas que de momento no son relevantes para nuestro propósito, esto lo conseguimos con el método `.drop()`\n",
        "al cual le pasamos el nombre de las columnas que deseamos eliminar entre comillas simples o dobles y separados por coma."
      ],
      "metadata": {
        "id": "gNggg11JIMDT"
      }
    },
    {
      "cell_type": "code",
      "source": [
        "df = df.drop(['X','Y','EXPEDIENTE','TIPO_GEOCOD','CBML','DIRECCION_ENC','DIRECCION','PERIODO','HORA','OBJECTID','DIA','MES','DISENO','X_MAGNAMED','Y_MAGNAMED','DIA_NOMBRE','MES_NOMBRE'], axis = 1)\n",
        "df.head()\n"
      ],
      "metadata": {
        "colab": {
          "base_uri": "https://localhost:8080/",
          "height": 206
        },
        "id": "SEiY3yalIYaJ",
        "outputId": "7101488c-e1c0-43e3-a396-03dedb3569ca"
      },
      "execution_count": null,
      "outputs": [
        {
          "output_type": "execute_result",
          "data": {
            "text/plain": [
              "   RADICADO   CLASE    GRAVEDAD            BARRIO            COMUNA  \\\n",
              "0   1783170  Choque      HERIDO       Bolivariana  Laureles Estadio   \n",
              "1   1783476  Choque      MUERTO            Tenche          Guayabal   \n",
              "2   1789709  Choque  SOLO DAÑOS        El Pesebre        San Javier   \n",
              "3   1793934  Choque      HERIDO  Perpetuo Socorro     La Candelaria   \n",
              "4   1791043    Otro      HERIDO               NaN               NaN   \n",
              "\n",
              "                    FECHA   LONGITUD   LATITUD  \n",
              "0  2022/03/16 00:00:00+00 -75.592351  6.243512  \n",
              "1  2022/03/16 00:00:00+00 -75.579832  6.230514  \n",
              "2  2022/05/04 00:00:00+00 -75.599001  6.269136  \n",
              "3  2022/06/12 00:00:00+00 -75.573979  6.232882  \n",
              "4  2022/05/18 00:00:00+00 -75.703816  6.221806  "
            ],
            "text/html": [
              "\n",
              "  <div id=\"df-61e23dc4-e703-46b4-b716-ba9cd5f411e4\">\n",
              "    <div class=\"colab-df-container\">\n",
              "      <div>\n",
              "<style scoped>\n",
              "    .dataframe tbody tr th:only-of-type {\n",
              "        vertical-align: middle;\n",
              "    }\n",
              "\n",
              "    .dataframe tbody tr th {\n",
              "        vertical-align: top;\n",
              "    }\n",
              "\n",
              "    .dataframe thead th {\n",
              "        text-align: right;\n",
              "    }\n",
              "</style>\n",
              "<table border=\"1\" class=\"dataframe\">\n",
              "  <thead>\n",
              "    <tr style=\"text-align: right;\">\n",
              "      <th></th>\n",
              "      <th>RADICADO</th>\n",
              "      <th>CLASE</th>\n",
              "      <th>GRAVEDAD</th>\n",
              "      <th>BARRIO</th>\n",
              "      <th>COMUNA</th>\n",
              "      <th>FECHA</th>\n",
              "      <th>LONGITUD</th>\n",
              "      <th>LATITUD</th>\n",
              "    </tr>\n",
              "  </thead>\n",
              "  <tbody>\n",
              "    <tr>\n",
              "      <th>0</th>\n",
              "      <td>1783170</td>\n",
              "      <td>Choque</td>\n",
              "      <td>HERIDO</td>\n",
              "      <td>Bolivariana</td>\n",
              "      <td>Laureles Estadio</td>\n",
              "      <td>2022/03/16 00:00:00+00</td>\n",
              "      <td>-75.592351</td>\n",
              "      <td>6.243512</td>\n",
              "    </tr>\n",
              "    <tr>\n",
              "      <th>1</th>\n",
              "      <td>1783476</td>\n",
              "      <td>Choque</td>\n",
              "      <td>MUERTO</td>\n",
              "      <td>Tenche</td>\n",
              "      <td>Guayabal</td>\n",
              "      <td>2022/03/16 00:00:00+00</td>\n",
              "      <td>-75.579832</td>\n",
              "      <td>6.230514</td>\n",
              "    </tr>\n",
              "    <tr>\n",
              "      <th>2</th>\n",
              "      <td>1789709</td>\n",
              "      <td>Choque</td>\n",
              "      <td>SOLO DAÑOS</td>\n",
              "      <td>El Pesebre</td>\n",
              "      <td>San Javier</td>\n",
              "      <td>2022/05/04 00:00:00+00</td>\n",
              "      <td>-75.599001</td>\n",
              "      <td>6.269136</td>\n",
              "    </tr>\n",
              "    <tr>\n",
              "      <th>3</th>\n",
              "      <td>1793934</td>\n",
              "      <td>Choque</td>\n",
              "      <td>HERIDO</td>\n",
              "      <td>Perpetuo Socorro</td>\n",
              "      <td>La Candelaria</td>\n",
              "      <td>2022/06/12 00:00:00+00</td>\n",
              "      <td>-75.573979</td>\n",
              "      <td>6.232882</td>\n",
              "    </tr>\n",
              "    <tr>\n",
              "      <th>4</th>\n",
              "      <td>1791043</td>\n",
              "      <td>Otro</td>\n",
              "      <td>HERIDO</td>\n",
              "      <td>NaN</td>\n",
              "      <td>NaN</td>\n",
              "      <td>2022/05/18 00:00:00+00</td>\n",
              "      <td>-75.703816</td>\n",
              "      <td>6.221806</td>\n",
              "    </tr>\n",
              "  </tbody>\n",
              "</table>\n",
              "</div>\n",
              "      <button class=\"colab-df-convert\" onclick=\"convertToInteractive('df-61e23dc4-e703-46b4-b716-ba9cd5f411e4')\"\n",
              "              title=\"Convert this dataframe to an interactive table.\"\n",
              "              style=\"display:none;\">\n",
              "        \n",
              "  <svg xmlns=\"http://www.w3.org/2000/svg\" height=\"24px\"viewBox=\"0 0 24 24\"\n",
              "       width=\"24px\">\n",
              "    <path d=\"M0 0h24v24H0V0z\" fill=\"none\"/>\n",
              "    <path d=\"M18.56 5.44l.94 2.06.94-2.06 2.06-.94-2.06-.94-.94-2.06-.94 2.06-2.06.94zm-11 1L8.5 8.5l.94-2.06 2.06-.94-2.06-.94L8.5 2.5l-.94 2.06-2.06.94zm10 10l.94 2.06.94-2.06 2.06-.94-2.06-.94-.94-2.06-.94 2.06-2.06.94z\"/><path d=\"M17.41 7.96l-1.37-1.37c-.4-.4-.92-.59-1.43-.59-.52 0-1.04.2-1.43.59L10.3 9.45l-7.72 7.72c-.78.78-.78 2.05 0 2.83L4 21.41c.39.39.9.59 1.41.59.51 0 1.02-.2 1.41-.59l7.78-7.78 2.81-2.81c.8-.78.8-2.07 0-2.86zM5.41 20L4 18.59l7.72-7.72 1.47 1.35L5.41 20z\"/>\n",
              "  </svg>\n",
              "      </button>\n",
              "      \n",
              "  <style>\n",
              "    .colab-df-container {\n",
              "      display:flex;\n",
              "      flex-wrap:wrap;\n",
              "      gap: 12px;\n",
              "    }\n",
              "\n",
              "    .colab-df-convert {\n",
              "      background-color: #E8F0FE;\n",
              "      border: none;\n",
              "      border-radius: 50%;\n",
              "      cursor: pointer;\n",
              "      display: none;\n",
              "      fill: #1967D2;\n",
              "      height: 32px;\n",
              "      padding: 0 0 0 0;\n",
              "      width: 32px;\n",
              "    }\n",
              "\n",
              "    .colab-df-convert:hover {\n",
              "      background-color: #E2EBFA;\n",
              "      box-shadow: 0px 1px 2px rgba(60, 64, 67, 0.3), 0px 1px 3px 1px rgba(60, 64, 67, 0.15);\n",
              "      fill: #174EA6;\n",
              "    }\n",
              "\n",
              "    [theme=dark] .colab-df-convert {\n",
              "      background-color: #3B4455;\n",
              "      fill: #D2E3FC;\n",
              "    }\n",
              "\n",
              "    [theme=dark] .colab-df-convert:hover {\n",
              "      background-color: #434B5C;\n",
              "      box-shadow: 0px 1px 3px 1px rgba(0, 0, 0, 0.15);\n",
              "      filter: drop-shadow(0px 1px 2px rgba(0, 0, 0, 0.3));\n",
              "      fill: #FFFFFF;\n",
              "    }\n",
              "  </style>\n",
              "\n",
              "      <script>\n",
              "        const buttonEl =\n",
              "          document.querySelector('#df-61e23dc4-e703-46b4-b716-ba9cd5f411e4 button.colab-df-convert');\n",
              "        buttonEl.style.display =\n",
              "          google.colab.kernel.accessAllowed ? 'block' : 'none';\n",
              "\n",
              "        async function convertToInteractive(key) {\n",
              "          const element = document.querySelector('#df-61e23dc4-e703-46b4-b716-ba9cd5f411e4');\n",
              "          const dataTable =\n",
              "            await google.colab.kernel.invokeFunction('convertToInteractive',\n",
              "                                                     [key], {});\n",
              "          if (!dataTable) return;\n",
              "\n",
              "          const docLinkHtml = 'Like what you see? Visit the ' +\n",
              "            '<a target=\"_blank\" href=https://colab.research.google.com/notebooks/data_table.ipynb>data table notebook</a>'\n",
              "            + ' to learn more about interactive tables.';\n",
              "          element.innerHTML = '';\n",
              "          dataTable['output_type'] = 'display_data';\n",
              "          await google.colab.output.renderOutput(dataTable, element);\n",
              "          const docLink = document.createElement('div');\n",
              "          docLink.innerHTML = docLinkHtml;\n",
              "          element.appendChild(docLink);\n",
              "        }\n",
              "      </script>\n",
              "    </div>\n",
              "  </div>\n",
              "  "
            ]
          },
          "metadata": {},
          "execution_count": 9
        }
      ]
    },
    {
      "cell_type": "markdown",
      "source": [
        "Luego de ejecutar el método `.drop()` podemos verificar ahora cual es la nueva dimensión del datafram con el método `.shape`"
      ],
      "metadata": {
        "id": "hss2qxK2Jvxq"
      }
    },
    {
      "cell_type": "code",
      "source": [
        "df.shape"
      ],
      "metadata": {
        "colab": {
          "base_uri": "https://localhost:8080/"
        },
        "id": "Qe-Xc2qHJrpy",
        "outputId": "33db8ad7-080b-4a34-fc61-5e340a90aceb"
      },
      "execution_count": null,
      "outputs": [
        {
          "output_type": "execute_result",
          "data": {
            "text/plain": [
              "(23577, 8)"
            ]
          },
          "metadata": {},
          "execution_count": 10
        }
      ]
    },
    {
      "cell_type": "markdown",
      "source": [
        "Ahora es necesario verificar si los datos contienen duplicados y datos nulos"
      ],
      "metadata": {
        "id": "L7rKM3meKF5f"
      }
    },
    {
      "cell_type": "code",
      "source": [
        "filas_duplicadas = df[df.duplicated()]\n",
        "print(\"Número de filas duplicadas: \", filas_duplicadas.shape)"
      ],
      "metadata": {
        "colab": {
          "base_uri": "https://localhost:8080/"
        },
        "id": "PfrSU0L0K1Px",
        "outputId": "735112ea-c12d-4787-f790-83d2bceff681"
      },
      "execution_count": null,
      "outputs": [
        {
          "output_type": "stream",
          "name": "stdout",
          "text": [
            "Número de filas duplicadas:  (0, 8)\n"
          ]
        }
      ]
    },
    {
      "cell_type": "markdown",
      "source": [
        "Vemos que no hay dúplicados, es decir que de la columna RADICADO ninguno es igual.\n",
        "Ahora ejecutemos el método `.count()` para ver un recuento de cada columna y ver si todas tienen el mismo número de filas"
      ],
      "metadata": {
        "id": "IOF00mxwLIQ5"
      }
    },
    {
      "cell_type": "code",
      "source": [
        "df.count()"
      ],
      "metadata": {
        "colab": {
          "base_uri": "https://localhost:8080/"
        },
        "id": "ombHWchYMgx5",
        "outputId": "b20d9f22-103d-4e46-c84d-325089d4e153"
      },
      "execution_count": null,
      "outputs": [
        {
          "output_type": "execute_result",
          "data": {
            "text/plain": [
              "RADICADO    23577\n",
              "CLASE       23577\n",
              "GRAVEDAD    23577\n",
              "BARRIO      21794\n",
              "COMUNA      21794\n",
              "FECHA       23577\n",
              "LONGITUD    23577\n",
              "LATITUD     23577\n",
              "dtype: int64"
            ]
          },
          "metadata": {},
          "execution_count": 12
        }
      ]
    },
    {
      "cell_type": "markdown",
      "source": [
        "En las Columnas `BARRIO` y `COMUNA` se oberva que hay menos filas que en las demás por lo que posiblemente son datos nulos, para confirmarlo se ejecuta el método `isnull()` acompañado de `.sum()` y este mostrará el número de datos núlos por columna en nuestro dataframe."
      ],
      "metadata": {
        "id": "LC0WzqrPLkkm"
      }
    },
    {
      "cell_type": "code",
      "source": [
        "print(df.isnull().sum())"
      ],
      "metadata": {
        "colab": {
          "base_uri": "https://localhost:8080/"
        },
        "id": "4VzjhJ-RMzgO",
        "outputId": "2d207ee3-9675-45e6-f707-5c8971fb09a5"
      },
      "execution_count": null,
      "outputs": [
        {
          "output_type": "stream",
          "name": "stdout",
          "text": [
            "RADICADO       0\n",
            "CLASE          0\n",
            "GRAVEDAD       0\n",
            "BARRIO      1783\n",
            "COMUNA      1783\n",
            "FECHA          0\n",
            "LONGITUD       0\n",
            "LATITUD        0\n",
            "dtype: int64\n"
          ]
        }
      ]
    },
    {
      "cell_type": "markdown",
      "source": [
        "Se encuentra que en las columnas BARRIO y COMUNA hay 1783 datos nulos en cada una, procedemos a eliminarlos junto con toda la fila que los contiene, con el método `.dropna()`\n",
        "junto con otras filas que contienen información incompleta como Sin Información o Información que para nuestro propósito no corresponde."
      ],
      "metadata": {
        "id": "7PuUXjYlMEXg"
      }
    },
    {
      "cell_type": "code",
      "source": [
        "df = df.dropna()    # Eliminando los valores nulos.\n",
        "df = df[df[\"BARRIO\"] != \" \"]\n",
        "df = df[df[\"COMUNA\"] != \" \"]\n",
        "df = df[df[\"COMUNA\"] != \"Sin inf\"]\n",
        "df = df[df[\"COMUNA\"] != \"Sin Inf\"]\n",
        "df = df[df[\"COMUNA\"] != \"AU\"]\n",
        "df = df[df[\"COMUNA\"] != \"In\"]\n",
        "df = df[df[\"COMUNA\"] != \"SN\"]\n",
        "df = df[df[\"BARRIO\"] != \"Sin inf\"]\n",
        "df = df[df[\"BARRIO\"] != \"Sin Inf\"]\n",
        "df.count()"
      ],
      "metadata": {
        "colab": {
          "base_uri": "https://localhost:8080/"
        },
        "id": "T39cn8qnM8cQ",
        "outputId": "f67f9098-bfdd-490c-dfb5-44533747b039"
      },
      "execution_count": null,
      "outputs": [
        {
          "output_type": "execute_result",
          "data": {
            "text/plain": [
              "RADICADO    20259\n",
              "CLASE       20259\n",
              "GRAVEDAD    20259\n",
              "BARRIO      20259\n",
              "COMUNA      20259\n",
              "FECHA       20259\n",
              "LONGITUD    20259\n",
              "LATITUD     20259\n",
              "dtype: int64"
            ]
          },
          "metadata": {},
          "execution_count": 14
        }
      ]
    },
    {
      "cell_type": "markdown",
      "source": [
        "Se observa que en esta ocasión todas las columnas tienen el mísmo número de filas.\n",
        "\n",
        "Ahora que se ha limpiado el dataframe se exporta a un nuevo archivo CSV que llamaremos `incidentes2022_clean.csv` con el método `.to_csv()` y será el que importemos en **Power BI** para crear el Tablero."
      ],
      "metadata": {
        "id": "jJ_IC_rdNLBy"
      }
    },
    {
      "cell_type": "code",
      "source": [
        "df.to_csv('incidentes2022_clean.csv', index = False)"
      ],
      "metadata": {
        "id": "yCV7TetZOy72"
      },
      "execution_count": null,
      "outputs": []
    }
  ]
}
